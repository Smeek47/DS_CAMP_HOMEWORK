{
 "cells": [
  {
   "cell_type": "markdown",
   "metadata": {},
   "source": [
    "# Hometask \n",
    "\n",
    "Mine top 10 association rules worth recommending for \n",
    "[Groceries dataset](https://www.kaggle.com/heeraldedhia/groceries-dataset)"
   ]
  },
  {
   "cell_type": "code",
   "execution_count": 1,
   "metadata": {},
   "outputs": [],
   "source": [
    "import pandas as pd\n",
    "import matplotlib.pyplot as plt"
   ]
  },
  {
   "cell_type": "code",
   "execution_count": 2,
   "metadata": {},
   "outputs": [
    {
     "data": {
      "text/html": [
       "<div>\n",
       "<style scoped>\n",
       "    .dataframe tbody tr th:only-of-type {\n",
       "        vertical-align: middle;\n",
       "    }\n",
       "\n",
       "    .dataframe tbody tr th {\n",
       "        vertical-align: top;\n",
       "    }\n",
       "\n",
       "    .dataframe thead th {\n",
       "        text-align: right;\n",
       "    }\n",
       "</style>\n",
       "<table border=\"1\" class=\"dataframe\">\n",
       "  <thead>\n",
       "    <tr style=\"text-align: right;\">\n",
       "      <th></th>\n",
       "      <th>Member_number</th>\n",
       "      <th>Date</th>\n",
       "      <th>itemDescription</th>\n",
       "    </tr>\n",
       "  </thead>\n",
       "  <tbody>\n",
       "    <tr>\n",
       "      <th>0</th>\n",
       "      <td>1808</td>\n",
       "      <td>21-07-2015</td>\n",
       "      <td>tropical fruit</td>\n",
       "    </tr>\n",
       "    <tr>\n",
       "      <th>1</th>\n",
       "      <td>2552</td>\n",
       "      <td>05-01-2015</td>\n",
       "      <td>whole milk</td>\n",
       "    </tr>\n",
       "    <tr>\n",
       "      <th>2</th>\n",
       "      <td>2300</td>\n",
       "      <td>19-09-2015</td>\n",
       "      <td>pip fruit</td>\n",
       "    </tr>\n",
       "    <tr>\n",
       "      <th>3</th>\n",
       "      <td>1187</td>\n",
       "      <td>12-12-2015</td>\n",
       "      <td>other vegetables</td>\n",
       "    </tr>\n",
       "    <tr>\n",
       "      <th>4</th>\n",
       "      <td>3037</td>\n",
       "      <td>01-02-2015</td>\n",
       "      <td>whole milk</td>\n",
       "    </tr>\n",
       "  </tbody>\n",
       "</table>\n",
       "</div>"
      ],
      "text/plain": [
       "   Member_number        Date   itemDescription\n",
       "0           1808  21-07-2015    tropical fruit\n",
       "1           2552  05-01-2015        whole milk\n",
       "2           2300  19-09-2015         pip fruit\n",
       "3           1187  12-12-2015  other vegetables\n",
       "4           3037  01-02-2015        whole milk"
      ]
     },
     "execution_count": 2,
     "metadata": {},
     "output_type": "execute_result"
    }
   ],
   "source": [
    "df = pd.read_csv('Groceries_dataset.csv')\n",
    "df.head ()"
   ]
  },
  {
   "cell_type": "code",
   "execution_count": 3,
   "metadata": {},
   "outputs": [
    {
     "data": {
      "text/plain": [
       "38765"
      ]
     },
     "execution_count": 3,
     "metadata": {},
     "output_type": "execute_result"
    }
   ],
   "source": [
    "len(df)"
   ]
  },
  {
   "cell_type": "code",
   "execution_count": 4,
   "metadata": {},
   "outputs": [
    {
     "data": {
      "text/plain": [
       "(array([1.008e+04, 2.698e+03, 1.390e+03, 3.440e+02, 1.750e+02, 8.000e+01,\n",
       "        1.450e+02, 5.000e+01, 0.000e+00, 1.000e+00]),\n",
       " array([ 2. ,  2.9,  3.8,  4.7,  5.6,  6.5,  7.4,  8.3,  9.2, 10.1, 11. ]),\n",
       " <BarContainer object of 10 artists>)"
      ]
     },
     "execution_count": 4,
     "metadata": {},
     "output_type": "execute_result"
    },
    {
     "data": {
      "image/png": "[encoded data removed]",
      "text/plain": [
       "<Figure size 640x480 with 1 Axes>"
      ]
     },
     "metadata": {},
     "output_type": "display_data"
    }
   ],
   "source": [
    "dist = [len(g) for k, g in df.groupby(['Member_number', 'Date'])]\n",
    "plt.hist(dist)"
   ]
  },
  {
   "cell_type": "markdown",
   "metadata": {},
   "source": [
    "# Solution:\n",
    "<hr/>"
   ]
  },
  {
   "cell_type": "code",
   "execution_count": 5,
   "metadata": {},
   "outputs": [
    {
     "data": {
      "text/plain": [
       "14963"
      ]
     },
     "execution_count": 5,
     "metadata": {},
     "output_type": "execute_result"
    }
   ],
   "source": [
    "from apyori import apriori\n",
    "\n",
    "\n",
    "transactions = df.groupby(['Member_number', 'Date'])['itemDescription'].apply(list).values.tolist()\n",
    "len(transactions)"
   ]
  },
  {
   "cell_type": "code",
   "execution_count": 6,
   "metadata": {},
   "outputs": [
    {
     "data": {
      "text/html": [
       "<div>\n",
       "<style scoped>\n",
       "    .dataframe tbody tr th:only-of-type {\n",
       "        vertical-align: middle;\n",
       "    }\n",
       "\n",
       "    .dataframe tbody tr th {\n",
       "        vertical-align: top;\n",
       "    }\n",
       "\n",
       "    .dataframe thead th {\n",
       "        text-align: right;\n",
       "    }\n",
       "</style>\n",
       "<table border=\"1\" class=\"dataframe\">\n",
       "  <thead>\n",
       "    <tr style=\"text-align: right;\">\n",
       "      <th></th>\n",
       "      <th>0</th>\n",
       "      <th>1</th>\n",
       "      <th>2</th>\n",
       "      <th>3</th>\n",
       "      <th>4</th>\n",
       "      <th>5</th>\n",
       "      <th>6</th>\n",
       "      <th>7</th>\n",
       "      <th>8</th>\n",
       "      <th>9</th>\n",
       "      <th>10</th>\n",
       "    </tr>\n",
       "  </thead>\n",
       "  <tbody>\n",
       "    <tr>\n",
       "      <th>0</th>\n",
       "      <td>sausage</td>\n",
       "      <td>whole milk</td>\n",
       "      <td>semi-finished bread</td>\n",
       "      <td>yogurt</td>\n",
       "      <td>0</td>\n",
       "      <td>0</td>\n",
       "      <td>0</td>\n",
       "      <td>0</td>\n",
       "      <td>0</td>\n",
       "      <td>0</td>\n",
       "      <td>0</td>\n",
       "    </tr>\n",
       "    <tr>\n",
       "      <th>1</th>\n",
       "      <td>whole milk</td>\n",
       "      <td>pastry</td>\n",
       "      <td>salty snack</td>\n",
       "      <td>0</td>\n",
       "      <td>0</td>\n",
       "      <td>0</td>\n",
       "      <td>0</td>\n",
       "      <td>0</td>\n",
       "      <td>0</td>\n",
       "      <td>0</td>\n",
       "      <td>0</td>\n",
       "    </tr>\n",
       "    <tr>\n",
       "      <th>2</th>\n",
       "      <td>canned beer</td>\n",
       "      <td>misc. beverages</td>\n",
       "      <td>0</td>\n",
       "      <td>0</td>\n",
       "      <td>0</td>\n",
       "      <td>0</td>\n",
       "      <td>0</td>\n",
       "      <td>0</td>\n",
       "      <td>0</td>\n",
       "      <td>0</td>\n",
       "      <td>0</td>\n",
       "    </tr>\n",
       "    <tr>\n",
       "      <th>3</th>\n",
       "      <td>sausage</td>\n",
       "      <td>hygiene articles</td>\n",
       "      <td>0</td>\n",
       "      <td>0</td>\n",
       "      <td>0</td>\n",
       "      <td>0</td>\n",
       "      <td>0</td>\n",
       "      <td>0</td>\n",
       "      <td>0</td>\n",
       "      <td>0</td>\n",
       "      <td>0</td>\n",
       "    </tr>\n",
       "    <tr>\n",
       "      <th>4</th>\n",
       "      <td>soda</td>\n",
       "      <td>pickled vegetables</td>\n",
       "      <td>0</td>\n",
       "      <td>0</td>\n",
       "      <td>0</td>\n",
       "      <td>0</td>\n",
       "      <td>0</td>\n",
       "      <td>0</td>\n",
       "      <td>0</td>\n",
       "      <td>0</td>\n",
       "      <td>0</td>\n",
       "    </tr>\n",
       "    <tr>\n",
       "      <th>...</th>\n",
       "      <td>...</td>\n",
       "      <td>...</td>\n",
       "      <td>...</td>\n",
       "      <td>...</td>\n",
       "      <td>...</td>\n",
       "      <td>...</td>\n",
       "      <td>...</td>\n",
       "      <td>...</td>\n",
       "      <td>...</td>\n",
       "      <td>...</td>\n",
       "      <td>...</td>\n",
       "    </tr>\n",
       "    <tr>\n",
       "      <th>14958</th>\n",
       "      <td>tropical fruit</td>\n",
       "      <td>berries</td>\n",
       "      <td>other vegetables</td>\n",
       "      <td>yogurt</td>\n",
       "      <td>kitchen towels</td>\n",
       "      <td>napkins</td>\n",
       "      <td>0</td>\n",
       "      <td>0</td>\n",
       "      <td>0</td>\n",
       "      <td>0</td>\n",
       "      <td>0</td>\n",
       "    </tr>\n",
       "    <tr>\n",
       "      <th>14959</th>\n",
       "      <td>bottled water</td>\n",
       "      <td>herbs</td>\n",
       "      <td>0</td>\n",
       "      <td>0</td>\n",
       "      <td>0</td>\n",
       "      <td>0</td>\n",
       "      <td>0</td>\n",
       "      <td>0</td>\n",
       "      <td>0</td>\n",
       "      <td>0</td>\n",
       "      <td>0</td>\n",
       "    </tr>\n",
       "    <tr>\n",
       "      <th>14960</th>\n",
       "      <td>fruit/vegetable juice</td>\n",
       "      <td>onions</td>\n",
       "      <td>0</td>\n",
       "      <td>0</td>\n",
       "      <td>0</td>\n",
       "      <td>0</td>\n",
       "      <td>0</td>\n",
       "      <td>0</td>\n",
       "      <td>0</td>\n",
       "      <td>0</td>\n",
       "      <td>0</td>\n",
       "    </tr>\n",
       "    <tr>\n",
       "      <th>14961</th>\n",
       "      <td>soda</td>\n",
       "      <td>root vegetables</td>\n",
       "      <td>semi-finished bread</td>\n",
       "      <td>0</td>\n",
       "      <td>0</td>\n",
       "      <td>0</td>\n",
       "      <td>0</td>\n",
       "      <td>0</td>\n",
       "      <td>0</td>\n",
       "      <td>0</td>\n",
       "      <td>0</td>\n",
       "    </tr>\n",
       "    <tr>\n",
       "      <th>14962</th>\n",
       "      <td>bottled beer</td>\n",
       "      <td>other vegetables</td>\n",
       "      <td>0</td>\n",
       "      <td>0</td>\n",
       "      <td>0</td>\n",
       "      <td>0</td>\n",
       "      <td>0</td>\n",
       "      <td>0</td>\n",
       "      <td>0</td>\n",
       "      <td>0</td>\n",
       "      <td>0</td>\n",
       "    </tr>\n",
       "  </tbody>\n",
       "</table>\n",
       "<p>14963 rows × 11 columns</p>\n",
       "</div>"
      ],
      "text/plain": [
       "                          0                   1                    2       3   \\\n",
       "0                    sausage          whole milk  semi-finished bread  yogurt   \n",
       "1                 whole milk              pastry          salty snack       0   \n",
       "2                canned beer     misc. beverages                    0       0   \n",
       "3                    sausage    hygiene articles                    0       0   \n",
       "4                       soda  pickled vegetables                    0       0   \n",
       "...                      ...                 ...                  ...     ...   \n",
       "14958         tropical fruit             berries     other vegetables  yogurt   \n",
       "14959          bottled water               herbs                    0       0   \n",
       "14960  fruit/vegetable juice              onions                    0       0   \n",
       "14961                   soda     root vegetables  semi-finished bread       0   \n",
       "14962           bottled beer    other vegetables                    0       0   \n",
       "\n",
       "                   4        5  6  7  8  9  10  \n",
       "0                   0        0  0  0  0  0  0  \n",
       "1                   0        0  0  0  0  0  0  \n",
       "2                   0        0  0  0  0  0  0  \n",
       "3                   0        0  0  0  0  0  0  \n",
       "4                   0        0  0  0  0  0  0  \n",
       "...               ...      ... .. .. .. .. ..  \n",
       "14958  kitchen towels  napkins  0  0  0  0  0  \n",
       "14959               0        0  0  0  0  0  0  \n",
       "14960               0        0  0  0  0  0  0  \n",
       "14961               0        0  0  0  0  0  0  \n",
       "14962               0        0  0  0  0  0  0  \n",
       "\n",
       "[14963 rows x 11 columns]"
      ]
     },
     "execution_count": 6,
     "metadata": {},
     "output_type": "execute_result"
    }
   ],
   "source": [
    "df_t = pd.DataFrame(transactions)\n",
    "df_t = df_t.fillna(0)\n",
    "df_t"
   ]
  },
  {
   "cell_type": "code",
   "execution_count": 7,
   "metadata": {},
   "outputs": [
    {
     "data": {
      "text/plain": [
       "[['sausage', 'whole milk', 'semi-finished bread', 'yogurt'],\n",
       " ['whole milk', 'pastry', 'salty snack'],\n",
       " ['canned beer', 'misc. beverages'],\n",
       " ['sausage', 'hygiene articles'],\n",
       " ['soda', 'pickled vegetables'],\n",
       " ['frankfurter', 'curd'],\n",
       " ['sausage', 'whole milk', 'rolls/buns'],\n",
       " ['whole milk', 'soda'],\n",
       " ['beef', 'white bread'],\n",
       " ['frankfurter', 'soda', 'whipped/sour cream']]"
      ]
     },
     "execution_count": 7,
     "metadata": {},
     "output_type": "execute_result"
    }
   ],
   "source": [
    "trans = df_t.values.tolist()\n",
    "\n",
    "trans_stripped = [[item for item in tr if item] for tr in trans]\n",
    "trans_stripped[:10]"
   ]
  },
  {
   "cell_type": "code",
   "execution_count": 8,
   "metadata": {},
   "outputs": [
    {
     "data": {
      "text/plain": [
       "46"
      ]
     },
     "execution_count": 8,
     "metadata": {},
     "output_type": "execute_result"
    }
   ],
   "source": [
    "rules = list(apriori(trans_stripped,\n",
    "                     min_support=0.003,\n",
    "                     min_confidence=0.02,\n",
    "                     min_lift=1,\n",
    "                     min_length=2))\n",
    "len(rules)"
   ]
  },
  {
   "cell_type": "code",
   "execution_count": 9,
   "metadata": {},
   "outputs": [
    {
     "data": {
      "text/plain": [
       "[RelationRecord(items=frozenset({'UHT-milk'}), support=0.021386085678005748, ordered_statistics=[OrderedStatistic(items_base=frozenset(), items_add=frozenset({'UHT-milk'}), confidence=0.021386085678005748, lift=1.0)]),\n",
       " RelationRecord(items=frozenset({'beef'}), support=0.03395041101383412, ordered_statistics=[OrderedStatistic(items_base=frozenset(), items_add=frozenset({'beef'}), confidence=0.03395041101383412, lift=1.0)]),\n",
       " RelationRecord(items=frozenset({'berries'}), support=0.021787074784468355, ordered_statistics=[OrderedStatistic(items_base=frozenset(), items_add=frozenset({'berries'}), confidence=0.021787074784468355, lift=1.0)]),\n",
       " RelationRecord(items=frozenset({'bottled beer'}), support=0.04531176903027468, ordered_statistics=[OrderedStatistic(items_base=frozenset(), items_add=frozenset({'bottled beer'}), confidence=0.04531176903027468, lift=1.0)]),\n",
       " RelationRecord(items=frozenset({'bottled water'}), support=0.06068301811134131, ordered_statistics=[OrderedStatistic(items_base=frozenset(), items_add=frozenset({'bottled water'}), confidence=0.06068301811134131, lift=1.0)])]"
      ]
     },
     "execution_count": 9,
     "metadata": {},
     "output_type": "execute_result"
    }
   ],
   "source": [
    "rules[:5]"
   ]
  },
  {
   "cell_type": "code",
   "execution_count": 10,
   "metadata": {},
   "outputs": [
    {
     "data": {
      "text/plain": [
       "[RelationRecord(items=frozenset({'bottled beer', 'sausage'}), support=0.003341575887188398, ordered_statistics=[OrderedStatistic(items_base=frozenset({'bottled beer'}), items_add=frozenset({'sausage'}), confidence=0.07374631268436578, lift=1.2220000849348451), OrderedStatistic(items_base=frozenset({'sausage'}), items_add=frozenset({'bottled beer'}), confidence=0.05537098560354374, lift=1.2220000849348451)]),\n",
       " RelationRecord(items=frozenset({'frankfurter', 'other vegetables'}), support=0.005146026866270133, ordered_statistics=[OrderedStatistic(items_base=frozenset({'frankfurter'}), items_add=frozenset({'other vegetables'}), confidence=0.13628318584070798, lift=1.1161495948191098), OrderedStatistic(items_base=frozenset({'other vegetables'}), items_add=frozenset({'frankfurter'}), confidence=0.042145593869731796, lift=1.1161495948191096)]),\n",
       " RelationRecord(items=frozenset({'sausage', 'yogurt'}), support=0.005747510525964045, ordered_statistics=[OrderedStatistic(items_base=frozenset({'sausage'}), items_add=frozenset({'yogurt'}), confidence=0.09523809523809523, lift=1.1089864739670185), OrderedStatistic(items_base=frozenset({'yogurt'}), items_add=frozenset({'sausage'}), confidence=0.0669260700389105, lift=1.1089864739670185)]),\n",
       " RelationRecord(items=frozenset({'pastry', 'sausage'}), support=0.003207912851700862, ordered_statistics=[OrderedStatistic(items_base=frozenset({'pastry'}), items_add=frozenset({'sausage'}), confidence=0.06201550387596899, lift=1.0276168156103256), OrderedStatistic(items_base=frozenset({'sausage'}), items_add=frozenset({'pastry'}), confidence=0.05315614617940199, lift=1.0276168156103256)]),\n",
       " RelationRecord(items=frozenset({'soda', 'sausage'}), support=0.005948005079195348, ordered_statistics=[OrderedStatistic(items_base=frozenset({'sausage'}), items_add=frozenset({'soda'}), confidence=0.09856035437430785, lift=1.0149749363405152), OrderedStatistic(items_base=frozenset({'soda'}), items_add=frozenset({'sausage'}), confidence=0.06125258086717137, lift=1.0149749363405152)]),\n",
       " RelationRecord(items=frozenset({'citrus fruit', 'yogurt'}), support=0.004611374724319989, ordered_statistics=[OrderedStatistic(items_base=frozenset({'citrus fruit'}), items_add=frozenset({'yogurt'}), confidence=0.08679245283018867, lift=1.0106423904265471), OrderedStatistic(items_base=frozenset({'yogurt'}), items_add=frozenset({'citrus fruit'}), confidence=0.053696498054474705, lift=1.0106423904265471)]),\n",
       " RelationRecord(items=frozenset({'root vegetables', 'shopping bags'}), support=0.003341575887188398, ordered_statistics=[OrderedStatistic(items_base=frozenset({'root vegetables'}), items_add=frozenset({'shopping bags'}), confidence=0.04803073967339097, lift=1.0093875810856028), OrderedStatistic(items_base=frozenset({'shopping bags'}), items_add=frozenset({'root vegetables'}), confidence=0.0702247191011236, lift=1.0093875810856026)]),\n",
       " RelationRecord(items=frozenset({'rolls/buns', 'fruit/vegetable juice'}), support=0.003742564993651006, ordered_statistics=[OrderedStatistic(items_base=frozenset({'fruit/vegetable juice'}), items_add=frozenset({'rolls/buns'}), confidence=0.11001964636542241, lift=1.0001360683874942), OrderedStatistic(items_base=frozenset({'rolls/buns'}), items_add=frozenset({'fruit/vegetable juice'}), confidence=0.034021871202916165, lift=1.0001360683874942)]),\n",
       " RelationRecord(items=frozenset({'UHT-milk'}), support=0.021386085678005748, ordered_statistics=[OrderedStatistic(items_base=frozenset(), items_add=frozenset({'UHT-milk'}), confidence=0.021386085678005748, lift=1.0)]),\n",
       " RelationRecord(items=frozenset({'beef'}), support=0.03395041101383412, ordered_statistics=[OrderedStatistic(items_base=frozenset(), items_add=frozenset({'beef'}), confidence=0.03395041101383412, lift=1.0)])]"
      ]
     },
     "execution_count": 10,
     "metadata": {},
     "output_type": "execute_result"
    }
   ],
   "source": [
    "sorted_rules = sorted(rules, key=lambda rule: rule.ordered_statistics[0].lift, reverse=True)\n",
    "\n",
    "sorted_rules[:10]"
   ]
  },
  {
   "cell_type": "markdown",
   "metadata": {},
   "source": [
    "## Printing Top <font color=\"lime\">10</font> rules by <font color=\"lime\"> lift </font>"
   ]
  },
  {
   "cell_type": "code",
   "execution_count": 11,
   "metadata": {},
   "outputs": [
    {
     "name": "stdout",
     "output_type": "stream",
     "text": [
      "rule.items= ['bottled beer', 'sausage']\n",
      "rule.support= 0.003341575887188398\n",
      "\titems_base= ['bottled beer']\n",
      "\tlifted_item = ['sausage']\n",
      "\tlift= 1.2220000849348451\n",
      "\tconfidence (i.e. cond prob ['sausage'] if ['bottled beer'])= 0.07374631268436578\n",
      "\n",
      "\n",
      "\titems_base= ['sausage']\n",
      "\tlifted_item = ['bottled beer']\n",
      "\tlift= 1.2220000849348451\n",
      "\tconfidence (i.e. cond prob ['bottled beer'] if ['sausage'])= 0.05537098560354374\n",
      "\n",
      "\n",
      "rule.items= ['frankfurter', 'other vegetables']\n",
      "rule.support= 0.005146026866270133\n",
      "\titems_base= ['frankfurter']\n",
      "\tlifted_item = ['other vegetables']\n",
      "\tlift= 1.1161495948191098\n",
      "\tconfidence (i.e. cond prob ['other vegetables'] if ['frankfurter'])= 0.13628318584070798\n",
      "\n",
      "\n",
      "\titems_base= ['other vegetables']\n",
      "\tlifted_item = ['frankfurter']\n",
      "\tlift= 1.1161495948191096\n",
      "\tconfidence (i.e. cond prob ['frankfurter'] if ['other vegetables'])= 0.042145593869731796\n",
      "\n",
      "\n",
      "rule.items= ['sausage', 'yogurt']\n",
      "rule.support= 0.005747510525964045\n",
      "\titems_base= ['sausage']\n",
      "\tlifted_item = ['yogurt']\n",
      "\tlift= 1.1089864739670185\n",
      "\tconfidence (i.e. cond prob ['yogurt'] if ['sausage'])= 0.09523809523809523\n",
      "\n",
      "\n",
      "\titems_base= ['yogurt']\n",
      "\tlifted_item = ['sausage']\n",
      "\tlift= 1.1089864739670185\n",
      "\tconfidence (i.e. cond prob ['sausage'] if ['yogurt'])= 0.0669260700389105\n",
      "\n",
      "\n",
      "rule.items= ['pastry', 'sausage']\n",
      "rule.support= 0.003207912851700862\n",
      "\titems_base= ['pastry']\n",
      "\tlifted_item = ['sausage']\n",
      "\tlift= 1.0276168156103256\n",
      "\tconfidence (i.e. cond prob ['sausage'] if ['pastry'])= 0.06201550387596899\n",
      "\n",
      "\n",
      "\titems_base= ['sausage']\n",
      "\tlifted_item = ['pastry']\n",
      "\tlift= 1.0276168156103256\n",
      "\tconfidence (i.e. cond prob ['pastry'] if ['sausage'])= 0.05315614617940199\n",
      "\n",
      "\n",
      "rule.items= ['soda', 'sausage']\n",
      "rule.support= 0.005948005079195348\n",
      "\titems_base= ['sausage']\n",
      "\tlifted_item = ['soda']\n",
      "\tlift= 1.0149749363405152\n",
      "\tconfidence (i.e. cond prob ['soda'] if ['sausage'])= 0.09856035437430785\n",
      "\n",
      "\n",
      "\titems_base= ['soda']\n",
      "\tlifted_item = ['sausage']\n",
      "\tlift= 1.0149749363405152\n",
      "\tconfidence (i.e. cond prob ['sausage'] if ['soda'])= 0.06125258086717137\n",
      "\n",
      "\n",
      "rule.items= ['citrus fruit', 'yogurt']\n",
      "rule.support= 0.004611374724319989\n",
      "\titems_base= ['citrus fruit']\n",
      "\tlifted_item = ['yogurt']\n",
      "\tlift= 1.0106423904265471\n",
      "\tconfidence (i.e. cond prob ['yogurt'] if ['citrus fruit'])= 0.08679245283018867\n",
      "\n",
      "\n",
      "\titems_base= ['yogurt']\n",
      "\tlifted_item = ['citrus fruit']\n",
      "\tlift= 1.0106423904265471\n",
      "\tconfidence (i.e. cond prob ['citrus fruit'] if ['yogurt'])= 0.053696498054474705\n",
      "\n",
      "\n",
      "rule.items= ['root vegetables', 'shopping bags']\n",
      "rule.support= 0.003341575887188398\n",
      "\titems_base= ['root vegetables']\n",
      "\tlifted_item = ['shopping bags']\n",
      "\tlift= 1.0093875810856028\n",
      "\tconfidence (i.e. cond prob ['shopping bags'] if ['root vegetables'])= 0.04803073967339097\n",
      "\n",
      "\n",
      "\titems_base= ['shopping bags']\n",
      "\tlifted_item = ['root vegetables']\n",
      "\tlift= 1.0093875810856026\n",
      "\tconfidence (i.e. cond prob ['root vegetables'] if ['shopping bags'])= 0.0702247191011236\n",
      "\n",
      "\n",
      "rule.items= ['rolls/buns', 'fruit/vegetable juice']\n",
      "rule.support= 0.003742564993651006\n",
      "\titems_base= ['fruit/vegetable juice']\n",
      "\tlifted_item = ['rolls/buns']\n",
      "\tlift= 1.0001360683874942\n",
      "\tconfidence (i.e. cond prob ['rolls/buns'] if ['fruit/vegetable juice'])= 0.11001964636542241\n",
      "\n",
      "\n",
      "\titems_base= ['rolls/buns']\n",
      "\tlifted_item = ['fruit/vegetable juice']\n",
      "\tlift= 1.0001360683874942\n",
      "\tconfidence (i.e. cond prob ['fruit/vegetable juice'] if ['rolls/buns'])= 0.034021871202916165\n",
      "\n",
      "\n",
      "rule.items= ['UHT-milk']\n",
      "rule.support= 0.021386085678005748\n",
      "\titems_base= []\n",
      "\tlifted_item = ['UHT-milk']\n",
      "\tlift= 1.0\n",
      "\tconfidence (i.e. cond prob ['UHT-milk'] if [])= 0.021386085678005748\n",
      "\n",
      "\n",
      "rule.items= ['beef']\n",
      "rule.support= 0.03395041101383412\n",
      "\titems_base= []\n",
      "\tlifted_item = ['beef']\n",
      "\tlift= 1.0\n",
      "\tconfidence (i.e. cond prob ['beef'] if [])= 0.03395041101383412\n",
      "\n",
      "\n"
     ]
    }
   ],
   "source": [
    "def print_rules(rules):\n",
    "    for rule in rules:\n",
    "        print ('rule.items=', list(rule.items))\n",
    "        print ('rule.support=',rule.support)\n",
    "\n",
    "        for os in rule.ordered_statistics:\n",
    "            print ('\\titems_base=', list(os.items_base))\n",
    "            print ('\\tlifted_item =', list(os.items_add))\n",
    "            print ('\\tlift=', os.lift)\n",
    "            print ('\\tconfidence (i.e. cond prob {} if {})='.format(list(os.items_add), list(os.items_base)), os.confidence)\n",
    "            print ('\\n')\n",
    "        \n",
    "print_rules(sorted_rules[:10])   "
   ]
  }
 ],
 "metadata": {
  "kernelspec": {
   "display_name": "Python 3",
   "language": "python",
   "name": "python3"
  },
  "language_info": {
   "codemirror_mode": {
    "name": "ipython",
    "version": 3
   },
   "file_extension": ".py",
   "mimetype": "text/x-python",
   "name": "python",
   "nbconvert_exporter": "python",
   "pygments_lexer": "ipython3",
   "version": "3.12.0"
  }
 },
 "nbformat": 4,
 "nbformat_minor": 2
}
